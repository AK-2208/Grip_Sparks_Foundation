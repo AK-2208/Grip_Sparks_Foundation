{
 "cells": [
  {
   "cell_type": "markdown",
   "id": "6ac77169",
   "metadata": {},
   "source": [
    "# The Sparks Foundation - Data Science and Bussiness Analytics\n",
    "\n",
    "## Prediction Of Scores Using Simple Linear Regression\n",
    "\n",
    "### `Objective: To Predict Scores of Students based on their study hours`.\n",
    "\n",
    "##### Created and Summarized by Akanksha Saraswat"
   ]
  },
  {
   "cell_type": "code",
   "execution_count": 2,
   "id": "f3c567e8",
   "metadata": {},
   "outputs": [],
   "source": [
    "# Load the basic libraries\n",
    "import pandas as pd\n",
    "import numpy as np \n",
    "import seaborn as sns\n",
    "import matplotlib.pyplot as plt \n",
    "import warnings\n",
    "warnings.filterwarnings(\"ignore\")"
   ]
  },
  {
   "cell_type": "code",
   "execution_count": 3,
   "id": "f18c12cc",
   "metadata": {
    "scrolled": false
   },
   "outputs": [
    {
     "data": {
      "text/html": [
       "<div>\n",
       "<style scoped>\n",
       "    .dataframe tbody tr th:only-of-type {\n",
       "        vertical-align: middle;\n",
       "    }\n",
       "\n",
       "    .dataframe tbody tr th {\n",
       "        vertical-align: top;\n",
       "    }\n",
       "\n",
       "    .dataframe thead th {\n",
       "        text-align: right;\n",
       "    }\n",
       "</style>\n",
       "<table border=\"1\" class=\"dataframe\">\n",
       "  <thead>\n",
       "    <tr style=\"text-align: right;\">\n",
       "      <th></th>\n",
       "      <th>Hours</th>\n",
       "      <th>Scores</th>\n",
       "    </tr>\n",
       "  </thead>\n",
       "  <tbody>\n",
       "    <tr>\n",
       "      <th>0</th>\n",
       "      <td>2.5</td>\n",
       "      <td>21</td>\n",
       "    </tr>\n",
       "    <tr>\n",
       "      <th>1</th>\n",
       "      <td>5.1</td>\n",
       "      <td>47</td>\n",
       "    </tr>\n",
       "    <tr>\n",
       "      <th>2</th>\n",
       "      <td>3.2</td>\n",
       "      <td>27</td>\n",
       "    </tr>\n",
       "    <tr>\n",
       "      <th>3</th>\n",
       "      <td>8.5</td>\n",
       "      <td>75</td>\n",
       "    </tr>\n",
       "    <tr>\n",
       "      <th>4</th>\n",
       "      <td>3.5</td>\n",
       "      <td>30</td>\n",
       "    </tr>\n",
       "  </tbody>\n",
       "</table>\n",
       "</div>"
      ],
      "text/plain": [
       "   Hours  Scores\n",
       "0    2.5      21\n",
       "1    5.1      47\n",
       "2    3.2      27\n",
       "3    8.5      75\n",
       "4    3.5      30"
      ]
     },
     "execution_count": 3,
     "metadata": {},
     "output_type": "execute_result"
    }
   ],
   "source": [
    "# load and read the dataset\n",
    "df=pd.read_csv('http://bit.ly/w-data')\n",
    "df.head()"
   ]
  },
  {
   "cell_type": "code",
   "execution_count": 4,
   "id": "01559e0e",
   "metadata": {},
   "outputs": [
    {
     "name": "stdout",
     "output_type": "stream",
     "text": [
      "<class 'pandas.core.frame.DataFrame'>\n",
      "RangeIndex: 25 entries, 0 to 24\n",
      "Data columns (total 2 columns):\n",
      " #   Column  Non-Null Count  Dtype  \n",
      "---  ------  --------------  -----  \n",
      " 0   Hours   25 non-null     float64\n",
      " 1   Scores  25 non-null     int64  \n",
      "dtypes: float64(1), int64(1)\n",
      "memory usage: 528.0 bytes\n"
     ]
    }
   ],
   "source": [
    "df.info()  # no missing values"
   ]
  },
  {
   "cell_type": "markdown",
   "id": "59ad0af8",
   "metadata": {},
   "source": [
    "## **Descriptive Summary**"
   ]
  },
  {
   "cell_type": "code",
   "execution_count": 5,
   "id": "a135f1a2",
   "metadata": {
    "scrolled": true
   },
   "outputs": [
    {
     "data": {
      "text/html": [
       "<div>\n",
       "<style scoped>\n",
       "    .dataframe tbody tr th:only-of-type {\n",
       "        vertical-align: middle;\n",
       "    }\n",
       "\n",
       "    .dataframe tbody tr th {\n",
       "        vertical-align: top;\n",
       "    }\n",
       "\n",
       "    .dataframe thead th {\n",
       "        text-align: right;\n",
       "    }\n",
       "</style>\n",
       "<table border=\"1\" class=\"dataframe\">\n",
       "  <thead>\n",
       "    <tr style=\"text-align: right;\">\n",
       "      <th></th>\n",
       "      <th>count</th>\n",
       "      <th>mean</th>\n",
       "      <th>std</th>\n",
       "      <th>min</th>\n",
       "      <th>25%</th>\n",
       "      <th>50%</th>\n",
       "      <th>75%</th>\n",
       "      <th>max</th>\n",
       "    </tr>\n",
       "  </thead>\n",
       "  <tbody>\n",
       "    <tr>\n",
       "      <th>Hours</th>\n",
       "      <td>25.0</td>\n",
       "      <td>5.012</td>\n",
       "      <td>2.525094</td>\n",
       "      <td>1.1</td>\n",
       "      <td>2.7</td>\n",
       "      <td>4.8</td>\n",
       "      <td>7.4</td>\n",
       "      <td>9.2</td>\n",
       "    </tr>\n",
       "    <tr>\n",
       "      <th>Scores</th>\n",
       "      <td>25.0</td>\n",
       "      <td>51.480</td>\n",
       "      <td>25.286887</td>\n",
       "      <td>17.0</td>\n",
       "      <td>30.0</td>\n",
       "      <td>47.0</td>\n",
       "      <td>75.0</td>\n",
       "      <td>95.0</td>\n",
       "    </tr>\n",
       "  </tbody>\n",
       "</table>\n",
       "</div>"
      ],
      "text/plain": [
       "        count    mean        std   min   25%   50%   75%   max\n",
       "Hours    25.0   5.012   2.525094   1.1   2.7   4.8   7.4   9.2\n",
       "Scores   25.0  51.480  25.286887  17.0  30.0  47.0  75.0  95.0"
      ]
     },
     "execution_count": 5,
     "metadata": {},
     "output_type": "execute_result"
    }
   ],
   "source": [
    "df.describe().T"
   ]
  },
  {
   "cell_type": "markdown",
   "id": "f2167e3a",
   "metadata": {},
   "source": [
    "### **Insights**\n",
    "\n",
    "* Everyone studys for minimum of 1 hour and each one scores more than 17 percent.\n",
    "\n",
    "* This is a very small dataset, less than 30 rows so we have to check whether it is normally distributed or not.\n",
    "\n",
    "* Since there is not much difference in mean and median, so we can assume data follows normal distribution.\n",
    "\n",
    "* As we can see above in the table; Scores (target variable) shows high variation in data points and more spread of the data."
   ]
  },
  {
   "cell_type": "code",
   "execution_count": null,
   "id": "05d6d3b9",
   "metadata": {},
   "outputs": [],
   "source": []
  },
  {
   "cell_type": "markdown",
   "id": "fb3e60c2",
   "metadata": {},
   "source": [
    "### **Visually Analysis of Data Disrtibution and LR Assumptions**"
   ]
  },
  {
   "cell_type": "markdown",
   "id": "2e589343",
   "metadata": {},
   "source": [
    "**Assumption: Data is normal.**"
   ]
  },
  {
   "cell_type": "code",
   "execution_count": 6,
   "id": "db6dc09b",
   "metadata": {},
   "outputs": [
    {
     "data": {
      "image/png": "[encoded data removed]",
      "text/plain": [
       "<Figure size 576x288 with 2 Axes>"
      ]
     },
     "metadata": {
      "needs_background": "light"
     },
     "output_type": "display_data"
    }
   ],
   "source": [
    "plt.rcParams['figure.figsize'] =[8,4]\n",
    "df.hist(color='lightblue');"
   ]
  },
  {
   "cell_type": "code",
   "execution_count": 7,
   "id": "47d1db90",
   "metadata": {},
   "outputs": [
    {
     "data": {
      "text/plain": [
       "<AxesSubplot:>"
      ]
     },
     "execution_count": 7,
     "metadata": {},
     "output_type": "execute_result"
    },
    {
     "data": {
      "image/png": "[encoded data removed]",
      "text/plain": [
       "<Figure size 576x288 with 1 Axes>"
      ]
     },
     "metadata": {
      "needs_background": "light"
     },
     "output_type": "display_data"
    }
   ],
   "source": [
    "df.boxplot()\n",
    "# there are no outliers present in the dataset, if there were we can remove it using iqr . "
   ]
  },
  {
   "cell_type": "markdown",
   "id": "1dbe000f",
   "metadata": {},
   "source": [
    "**Assumption: Data Follows Linearity**"
   ]
  },
  {
   "cell_type": "code",
   "execution_count": 8,
   "id": "af09bdd0",
   "metadata": {},
   "outputs": [
    {
     "data": {
      "image/png": "[encoded data removed]",
      "text/plain": [
       "<Figure size 576x360 with 1 Axes>"
      ]
     },
     "metadata": {
      "needs_background": "light"
     },
     "output_type": "display_data"
    }
   ],
   "source": [
    "plt.figure(figsize=(8,5))\n",
    "sns.scatterplot(df['Hours'],df['Scores'] , color = 'red')  \n",
    "plt.title('Hours vs Percentage')  \n",
    "plt.grid();   \n"
   ]
  },
  {
   "cell_type": "markdown",
   "id": "41333136",
   "metadata": {},
   "source": [
    "### Conclusion\n",
    "**From the graphs above, we can clearly see that the data is normally distributed and there is a positive linear relation between the number of hours studied and percentage of score.**"
   ]
  },
  {
   "cell_type": "markdown",
   "id": "eab31888",
   "metadata": {},
   "source": [
    "# Modelling"
   ]
  },
  {
   "cell_type": "code",
   "execution_count": 9,
   "id": "06177398",
   "metadata": {},
   "outputs": [],
   "source": [
    "# import ml libraries\n",
    "import statsmodels.api as sma\n",
    "from sklearn.model_selection import train_test_split , cross_val_score\n",
    "from sklearn.linear_model import LinearRegression\n",
    "from sklearn.metrics import r2_score,mean_squared_error"
   ]
  },
  {
   "cell_type": "code",
   "execution_count": 10,
   "id": "3f6a96f4",
   "metadata": {},
   "outputs": [],
   "source": [
    "X=df['Hours']\n",
    "y=df['Scores']\n",
    "Xc=sma.add_constant(X)"
   ]
  },
  {
   "cell_type": "code",
   "execution_count": 11,
   "id": "6e5b9877",
   "metadata": {},
   "outputs": [
    {
     "data": {
      "text/plain": [
       "((25,), (25, 2))"
      ]
     },
     "execution_count": 11,
     "metadata": {},
     "output_type": "execute_result"
    }
   ],
   "source": [
    "X.shape,Xc.shape"
   ]
  },
  {
   "cell_type": "code",
   "execution_count": 12,
   "id": "28d67a83",
   "metadata": {},
   "outputs": [],
   "source": [
    "X_train,X_test,y_train,y_test=train_test_split(Xc,y, test_size=0.3 , random_state= 0)"
   ]
  },
  {
   "cell_type": "code",
   "execution_count": 13,
   "id": "d535e090",
   "metadata": {},
   "outputs": [
    {
     "data": {
      "text/plain": [
       "((17, 2), (8, 2), (17,), (8,))"
      ]
     },
     "execution_count": 13,
     "metadata": {},
     "output_type": "execute_result"
    }
   ],
   "source": [
    "X_train.shape,X_test.shape,y_train.shape,y_test.shape"
   ]
  },
  {
   "cell_type": "markdown",
   "id": "3021fbb1",
   "metadata": {},
   "source": [
    "## `Building Base Model using OLS Method`"
   ]
  },
  {
   "cell_type": "code",
   "execution_count": 14,
   "id": "84ac1d85",
   "metadata": {},
   "outputs": [
    {
     "data": {
      "text/html": [
       "<table class=\"simpletable\">\n",
       "<caption>OLS Regression Results</caption>\n",
       "<tr>\n",
       "  <th>Dep. Variable:</th>         <td>Scores</td>      <th>  R-squared:         </th> <td>   0.948</td>\n",
       "</tr>\n",
       "<tr>\n",
       "  <th>Model:</th>                   <td>OLS</td>       <th>  Adj. R-squared:    </th> <td>   0.945</td>\n",
       "</tr>\n",
       "<tr>\n",
       "  <th>Method:</th>             <td>Least Squares</td>  <th>  F-statistic:       </th> <td>   276.3</td>\n",
       "</tr>\n",
       "<tr>\n",
       "  <th>Date:</th>             <td>Thu, 07 Oct 2021</td> <th>  Prob (F-statistic):</th> <td>4.52e-11</td>\n",
       "</tr>\n",
       "<tr>\n",
       "  <th>Time:</th>                 <td>03:41:09</td>     <th>  Log-Likelihood:    </th> <td> -53.493</td>\n",
       "</tr>\n",
       "<tr>\n",
       "  <th>No. Observations:</th>      <td>    17</td>      <th>  AIC:               </th> <td>   111.0</td>\n",
       "</tr>\n",
       "<tr>\n",
       "  <th>Df Residuals:</th>          <td>    15</td>      <th>  BIC:               </th> <td>   112.7</td>\n",
       "</tr>\n",
       "<tr>\n",
       "  <th>Df Model:</th>              <td>     1</td>      <th>                     </th>     <td> </td>   \n",
       "</tr>\n",
       "<tr>\n",
       "  <th>Covariance Type:</th>      <td>nonrobust</td>    <th>                     </th>     <td> </td>   \n",
       "</tr>\n",
       "</table>\n",
       "<table class=\"simpletable\">\n",
       "<tr>\n",
       "    <td></td>       <th>coef</th>     <th>std err</th>      <th>t</th>      <th>P>|t|</th>  <th>[0.025</th>    <th>0.975]</th>  \n",
       "</tr>\n",
       "<tr>\n",
       "  <th>const</th> <td>    2.3708</td> <td>    3.481</td> <td>    0.681</td> <td> 0.506</td> <td>   -5.048</td> <td>    9.790</td>\n",
       "</tr>\n",
       "<tr>\n",
       "  <th>Hours</th> <td>    9.7886</td> <td>    0.589</td> <td>   16.621</td> <td> 0.000</td> <td>    8.533</td> <td>   11.044</td>\n",
       "</tr>\n",
       "</table>\n",
       "<table class=\"simpletable\">\n",
       "<tr>\n",
       "  <th>Omnibus:</th>       <td> 4.659</td> <th>  Durbin-Watson:     </th> <td>   1.918</td>\n",
       "</tr>\n",
       "<tr>\n",
       "  <th>Prob(Omnibus):</th> <td> 0.097</td> <th>  Jarque-Bera (JB):  </th> <td>   1.510</td>\n",
       "</tr>\n",
       "<tr>\n",
       "  <th>Skew:</th>          <td>-0.211</td> <th>  Prob(JB):          </th> <td>   0.470</td>\n",
       "</tr>\n",
       "<tr>\n",
       "  <th>Kurtosis:</th>      <td> 1.602</td> <th>  Cond. No.          </th> <td>    14.5</td>\n",
       "</tr>\n",
       "</table><br/><br/>Notes:<br/>[1] Standard Errors assume that the covariance matrix of the errors is correctly specified."
      ],
      "text/plain": [
       "<class 'statsmodels.iolib.summary.Summary'>\n",
       "\"\"\"\n",
       "                            OLS Regression Results                            \n",
       "==============================================================================\n",
       "Dep. Variable:                 Scores   R-squared:                       0.948\n",
       "Model:                            OLS   Adj. R-squared:                  0.945\n",
       "Method:                 Least Squares   F-statistic:                     276.3\n",
       "Date:                Thu, 07 Oct 2021   Prob (F-statistic):           4.52e-11\n",
       "Time:                        03:41:09   Log-Likelihood:                -53.493\n",
       "No. Observations:                  17   AIC:                             111.0\n",
       "Df Residuals:                      15   BIC:                             112.7\n",
       "Df Model:                           1                                         \n",
       "Covariance Type:            nonrobust                                         \n",
       "==============================================================================\n",
       "                 coef    std err          t      P>|t|      [0.025      0.975]\n",
       "------------------------------------------------------------------------------\n",
       "const          2.3708      3.481      0.681      0.506      -5.048       9.790\n",
       "Hours          9.7886      0.589     16.621      0.000       8.533      11.044\n",
       "==============================================================================\n",
       "Omnibus:                        4.659   Durbin-Watson:                   1.918\n",
       "Prob(Omnibus):                  0.097   Jarque-Bera (JB):                1.510\n",
       "Skew:                          -0.211   Prob(JB):                        0.470\n",
       "Kurtosis:                       1.602   Cond. No.                         14.5\n",
       "==============================================================================\n",
       "\n",
       "Notes:\n",
       "[1] Standard Errors assume that the covariance matrix of the errors is correctly specified.\n",
       "\"\"\""
      ]
     },
     "execution_count": 14,
     "metadata": {},
     "output_type": "execute_result"
    }
   ],
   "source": [
    "ols1=sma.OLS(y_train,X_train).fit()\n",
    "ols1.summary()"
   ]
  },
  {
   "cell_type": "markdown",
   "id": "7dfd1f0d",
   "metadata": {},
   "source": [
    "## Train Accuracy and RMSE"
   ]
  },
  {
   "cell_type": "code",
   "execution_count": 15,
   "id": "540e597c",
   "metadata": {},
   "outputs": [],
   "source": [
    "ypred_train=ols1.predict(X_train)"
   ]
  },
  {
   "cell_type": "code",
   "execution_count": 16,
   "id": "824c0ecb",
   "metadata": {},
   "outputs": [
    {
     "data": {
      "text/plain": [
       "(0.9484997422695115, 5.627830870119195)"
      ]
     },
     "execution_count": 16,
     "metadata": {},
     "output_type": "execute_result"
    }
   ],
   "source": [
    "train_score,train_rmse=r2_score(y_train,ypred_train) , np.sqrt(mean_squared_error(y_train,ypred_train))\n",
    "train_score,train_rmse"
   ]
  },
  {
   "cell_type": "markdown",
   "id": "a321f0ff",
   "metadata": {},
   "source": [
    "## Test Accuracy and RMSE"
   ]
  },
  {
   "cell_type": "code",
   "execution_count": 17,
   "id": "d8f10bef",
   "metadata": {},
   "outputs": [],
   "source": [
    "ypred=ols1.predict(X_test)"
   ]
  },
  {
   "cell_type": "code",
   "execution_count": 18,
   "id": "7c3493e8",
   "metadata": {},
   "outputs": [
    {
     "data": {
      "text/plain": [
       "(0.9568211104435258, 4.792191274636314)"
      ]
     },
     "execution_count": 18,
     "metadata": {},
     "output_type": "execute_result"
    }
   ],
   "source": [
    "test_score,test_rmse=r2_score(y_test,ypred) , np.sqrt(mean_squared_error(y_test,ypred))\n",
    "test_score,test_rmse"
   ]
  },
  {
   "cell_type": "markdown",
   "id": "805bfe95",
   "metadata": {},
   "source": [
    "### Probability Plot Of the Residuals"
   ]
  },
  {
   "cell_type": "code",
   "execution_count": 19,
   "id": "08660be3",
   "metadata": {},
   "outputs": [
    {
     "data": {
      "image/png": "[encoded data removed]",
      "text/plain": [
       "<Figure size 576x288 with 1 Axes>"
      ]
     },
     "metadata": {
      "needs_background": "light"
     },
     "output_type": "display_data"
    }
   ],
   "source": [
    "from scipy.stats import probplot\n",
    "probplot(ols1.resid,plot=plt)\n",
    "plt.show()"
   ]
  },
  {
   "cell_type": "markdown",
   "id": "278ad1f8",
   "metadata": {},
   "source": [
    "**Assumption Residuals are normally distributed with mean 0 .**"
   ]
  },
  {
   "cell_type": "code",
   "execution_count": 20,
   "id": "13dc77e1",
   "metadata": {},
   "outputs": [
    {
     "data": {
      "text/plain": [
       "-2.7167810484945008e-14"
      ]
     },
     "execution_count": 20,
     "metadata": {},
     "output_type": "execute_result"
    }
   ],
   "source": [
    "np.mean(ols1.resid)  "
   ]
  },
  {
   "cell_type": "markdown",
   "id": "29b2d0ba",
   "metadata": {},
   "source": [
    "The mean value of residuals is so small that we can assume it to be zero only ."
   ]
  },
  {
   "cell_type": "markdown",
   "id": "01977375",
   "metadata": {},
   "source": [
    "# `Base Model Conclusion`\n",
    ".\n",
    "\n",
    "* The model seems to be a good fit since the  \"`TEST r2_square > TRAIN r2_square`\" ,** \n",
    "\n",
    "* Also RMSE (root mean sqaured error) has reduced by one point for the test data which leads to more precise predicted values.**\n",
    "\n",
    "* Out of 100 observations the model will be able to predict 96 scores accurately with the standard deviation of the error 4.8 for the predicted values.**  \n",
    ".\n",
    "\n",
    "*Further steps: Ensembling , Boosting and Regularization techniques can be used for better accuracy and lesser rmse .*"
   ]
  },
  {
   "cell_type": "markdown",
   "id": "da440f06",
   "metadata": {},
   "source": [
    "---"
   ]
  },
  {
   "cell_type": "markdown",
   "id": "ac07a827",
   "metadata": {},
   "source": [
    "### Cross Validation Score"
   ]
  },
  {
   "cell_type": "markdown",
   "id": "11fc272e",
   "metadata": {},
   "source": [
    "**Why We use Cross-Validation Method** : Our aim is to build a model that generalize well in all possible groups of data and not just in that particular group of data that is present in our test set. This can be possible using Cross Validation.\n",
    "For a model to generalize well, your cross-validation results and your test results should be high."
   ]
  },
  {
   "cell_type": "code",
   "execution_count": 21,
   "id": "9e3a6f82",
   "metadata": {},
   "outputs": [],
   "source": [
    "X=df['Hours']\n",
    "y=df['Scores']\n",
    "X_train,X_test,y_train,y_test=train_test_split(X,y, test_size=0.3 , random_state= 0)\n",
    "X_train=X_train.values.reshape(-1,1)\n",
    "y_train=y_train.values.reshape(-1,1)"
   ]
  },
  {
   "cell_type": "code",
   "execution_count": 22,
   "id": "2eab20b0",
   "metadata": {},
   "outputs": [
    {
     "data": {
      "text/plain": [
       "-38.558832568925624"
      ]
     },
     "execution_count": 22,
     "metadata": {},
     "output_type": "execute_result"
    }
   ],
   "source": [
    "ols2 = LinearRegression()\n",
    "ols2.fit(X_train,y_train)\n",
    "ols_cv_mse = cross_val_score(ols2, X_train, y_train, scoring='neg_mean_squared_error', cv=3)\n",
    "ols_cv_mse.mean()\n",
    "# The below number is the neg avg MSE for cv (minimizing MSE is equivalent to maximizing the neg MSE)"
   ]
  },
  {
   "cell_type": "markdown",
   "id": "15eb2929",
   "metadata": {},
   "source": [
    "**Cross-Validation Results**"
   ]
  },
  {
   "cell_type": "code",
   "execution_count": 24,
   "id": "b0d0fe12",
   "metadata": {},
   "outputs": [
    {
     "name": "stdout",
     "output_type": "stream",
     "text": [
      "0.9375721183131133\n"
     ]
    }
   ],
   "source": [
    "score=cross_val_score(ols2,X_train,y_train , scoring='r2' , cv=3)\n",
    "print(np.mean(score))"
   ]
  },
  {
   "cell_type": "markdown",
   "id": "da72a6b2",
   "metadata": {},
   "source": [
    "**The average score is 0.94 and neagtive rmse is higher which is good for the model .**"
   ]
  },
  {
   "cell_type": "markdown",
   "id": "28eab8a6",
   "metadata": {},
   "source": [
    "---"
   ]
  },
  {
   "cell_type": "markdown",
   "id": "6f8bb65c",
   "metadata": {},
   "source": [
    "## `Time For Prediction `\n",
    "Now that we have trained our algorithm, let's make some predictions.\n",
    "\n",
    "###  What will be the predicted score if a student studies 9.5 hrs a day?"
   ]
  },
  {
   "cell_type": "code",
   "execution_count": 25,
   "id": "039757e4",
   "metadata": {},
   "outputs": [],
   "source": [
    "hours=9.25"
   ]
  },
  {
   "cell_type": "code",
   "execution_count": 26,
   "id": "7fe28d95",
   "metadata": {},
   "outputs": [
    {
     "data": {
      "text/plain": [
       "93.0"
      ]
     },
     "execution_count": 26,
     "metadata": {},
     "output_type": "execute_result"
    }
   ],
   "source": [
    "prediction=np.rint(ols2.predict([[hours]])).flatten()[0]\n",
    "prediction"
   ]
  },
  {
   "cell_type": "code",
   "execution_count": 27,
   "id": "e4843b67",
   "metadata": {},
   "outputs": [
    {
     "name": "stdout",
     "output_type": "stream",
     "text": [
      "Predicted Score for 9.25 hrs studies = 93.0 %\n"
     ]
    }
   ],
   "source": [
    "print(\"Predicted Score for 9.25 hrs studies = {}\".format(prediction),\"%\")"
   ]
  },
  {
   "cell_type": "code",
   "execution_count": 28,
   "id": "a2b027ea",
   "metadata": {},
   "outputs": [],
   "source": [
    "# Predicted Range Of Score for 9.25 hours studies :\n",
    "max_value=np.rint(test_rmse+prediction)\n",
    "min_value=np.rint(prediction-test_rmse)"
   ]
  },
  {
   "cell_type": "code",
   "execution_count": 29,
   "id": "8a55bf68",
   "metadata": {},
   "outputs": [
    {
     "data": {
      "text/html": [
       "<div>\n",
       "<style scoped>\n",
       "    .dataframe tbody tr th:only-of-type {\n",
       "        vertical-align: middle;\n",
       "    }\n",
       "\n",
       "    .dataframe tbody tr th {\n",
       "        vertical-align: top;\n",
       "    }\n",
       "\n",
       "    .dataframe thead th {\n",
       "        text-align: right;\n",
       "    }\n",
       "</style>\n",
       "<table border=\"1\" class=\"dataframe\">\n",
       "  <thead>\n",
       "    <tr style=\"text-align: right;\">\n",
       "      <th></th>\n",
       "      <th>Hours</th>\n",
       "      <th>Predicted Score</th>\n",
       "      <th>Min</th>\n",
       "      <th>Max</th>\n",
       "    </tr>\n",
       "  </thead>\n",
       "  <tbody>\n",
       "    <tr>\n",
       "      <th>0</th>\n",
       "      <td>9.25</td>\n",
       "      <td>93.0</td>\n",
       "      <td>88.0</td>\n",
       "      <td>98.0</td>\n",
       "    </tr>\n",
       "  </tbody>\n",
       "</table>\n",
       "</div>"
      ],
      "text/plain": [
       "   Hours  Predicted Score   Min   Max\n",
       "0   9.25             93.0  88.0  98.0"
      ]
     },
     "execution_count": 29,
     "metadata": {},
     "output_type": "execute_result"
    }
   ],
   "source": [
    "Pred=pd.DataFrame({'Hours':hours, 'Predicted Score':prediction , \"Min\":min_value, \"Max\":max_value}, index=[0])\n",
    "Pred"
   ]
  },
  {
   "cell_type": "markdown",
   "id": "2f922db6",
   "metadata": {},
   "source": [
    " "
   ]
  },
  {
   "cell_type": "markdown",
   "id": "b68c8ed8",
   "metadata": {},
   "source": [
    "---------------------------------------------------------------------------------------  **Thank You** -------------------------------------------------------------------------------------------------"
   ]
  },
  {
   "cell_type": "code",
   "execution_count": null,
   "id": "fc211278",
   "metadata": {},
   "outputs": [],
   "source": []
  },
  {
   "cell_type": "markdown",
   "id": "30b6e6b9",
   "metadata": {},
   "source": [
    " "
   ]
  }
 ],
 "metadata": {
  "kernelspec": {
   "display_name": "Python 3",
   "language": "python",
   "name": "python3"
  },
  "language_info": {
   "codemirror_mode": {
    "name": "ipython",
    "version": 3
   },
   "file_extension": ".py",
   "mimetype": "text/x-python",
   "name": "python",
   "nbconvert_exporter": "python",
   "pygments_lexer": "ipython3",
   "version": "3.8.8"
  }
 },
 "nbformat": 4,
 "nbformat_minor": 5
}
